{
 "cells": [
  {
   "cell_type": "code",
   "execution_count": 1,
   "metadata": {},
   "outputs": [],
   "source": [
    "import pandas as pd"
   ]
  },
  {
   "cell_type": "code",
   "execution_count": 19,
   "metadata": {},
   "outputs": [],
   "source": [
    "ans_sudhir=pd.DataFrame(pd.read_csv(\"answer_9569_valid_web.txt\"))\n",
    "ans_navneet=pd.DataFrame(pd.read_csv(\"answer_bagging_9488.txt\"))"
   ]
  },
  {
   "cell_type": "code",
   "execution_count": 20,
   "metadata": {},
   "outputs": [],
   "source": [
    "count=0\n",
    "string=\"\"\n",
    "for i in range(len(ans_sudhir.label)):\n",
    "    if not((ans_sudhir.label[i]==ans_navneet.label[i])):\n",
    "#         print(\"*************\")\n",
    "#         print(ans_sudhir.label[i],ans_navneet.label[i])\n",
    "#         print(\"*************\")\n",
    "#         string+=\"\\n\"+\"\\n\" \"*************\"+\"\\n \"+str(ans.id[i])+\" Sudhir:\"+str(ans_sudhir.label[i])+\" Navneet:\"+ans.label[i]+\"\\n\"+df_test.tweet_original[i]\n",
    "        count+=1"
   ]
  },
  {
   "cell_type": "code",
   "execution_count": 21,
   "metadata": {},
   "outputs": [
    {
     "data": {
      "text/plain": [
       "real    1076\n",
       "fake    1064\n",
       "Name: label, dtype: int64"
      ]
     },
     "execution_count": 21,
     "metadata": {},
     "output_type": "execute_result"
    }
   ],
   "source": [
    "ans_navneet[\"label\"].value_counts()"
   ]
  },
  {
   "cell_type": "code",
   "execution_count": 22,
   "metadata": {},
   "outputs": [
    {
     "data": {
      "text/plain": [
       "27"
      ]
     },
     "execution_count": 22,
     "metadata": {},
     "output_type": "execute_result"
    }
   ],
   "source": [
    "count"
   ]
  },
  {
   "cell_type": "code",
   "execution_count": null,
   "metadata": {},
   "outputs": [],
   "source": []
  }
 ],
 "metadata": {
  "kernelspec": {
   "display_name": "Python 3",
   "language": "python",
   "name": "python3"
  },
  "language_info": {
   "codemirror_mode": {
    "name": "ipython",
    "version": 3
   },
   "file_extension": ".py",
   "mimetype": "text/x-python",
   "name": "python",
   "nbconvert_exporter": "python",
   "pygments_lexer": "ipython3",
   "version": "3.8.5"
  }
 },
 "nbformat": 4,
 "nbformat_minor": 4
}
