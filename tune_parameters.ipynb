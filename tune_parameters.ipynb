{
 "cells": [
  {
   "cell_type": "code",
   "execution_count": 4,
   "metadata": {},
   "outputs": [],
   "source": [
    "import pickle\n",
    "from sklearn.metrics import *"
   ]
  },
  {
   "cell_type": "code",
   "execution_count": 10,
   "metadata": {},
   "outputs": [],
   "source": [
    "file=open(\"train_feature\",\"rb\")\n",
    "X_train=pickle.load(file)\n",
    "file.close()\n",
    "file=open(\"train_label\",\"rb\")\n",
    "Y_train=pickle.load(file)\n",
    "file.close()\n",
    "file=open(\"valid_label\",\"rb\")\n",
    "Y_valid=pickle.load(file)\n",
    "file.close()\n",
    "file=open(\"valid_feature\",\"rb\")\n",
    "X_valid=pickle.load(file)\n",
    "file.close()\n",
    "\n",
    "file=open(\"test_feature\",\"rb\")\n",
    "X_test=pickle.load(file)\n",
    "file.close()"
   ]
  },
  {
   "cell_type": "code",
   "execution_count": 11,
   "metadata": {},
   "outputs": [
    {
     "data": {
      "text/plain": [
       "0.9634748039166774"
      ]
     },
     "execution_count": 11,
     "metadata": {},
     "output_type": "execute_result"
    }
   ],
   "source": [
    "from sklearn.linear_model import PassiveAggressiveClassifier\n",
    "clf = PassiveAggressiveClassifier(max_iter=1000, random_state=0,tol=1e-3)\n",
    "clf.fit(X_train,Y_train)\n",
    "y_pred=clf.predict(X_valid)\n",
    "f1_score(y_pred,Y_valid,average=\"macro\")"
   ]
  },
  {
   "cell_type": "code",
   "execution_count": null,
   "metadata": {},
   "outputs": [],
   "source": []
  },
  {
   "cell_type": "code",
   "execution_count": null,
   "metadata": {},
   "outputs": [],
   "source": []
  }
 ],
 "metadata": {
  "kernelspec": {
   "display_name": "Python 3",
   "language": "python",
   "name": "python3"
  },
  "language_info": {
   "codemirror_mode": {
    "name": "ipython",
    "version": 3
   },
   "file_extension": ".py",
   "mimetype": "text/x-python",
   "name": "python",
   "nbconvert_exporter": "python",
   "pygments_lexer": "ipython3",
   "version": "3.8.5"
  }
 },
 "nbformat": 4,
 "nbformat_minor": 4
}
