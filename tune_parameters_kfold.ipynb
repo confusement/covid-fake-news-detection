{
 "cells": [
  {
   "cell_type": "code",
   "execution_count": 1,
   "metadata": {},
   "outputs": [],
   "source": [
    "import pickle\n",
    "from sklearn.metrics import *"
   ]
  },
  {
   "cell_type": "code",
   "execution_count": 2,
   "metadata": {},
   "outputs": [
    {
     "name": "stderr",
     "output_type": "stream",
     "text": [
      "Using TensorFlow backend.\n"
     ]
    }
   ],
   "source": [
    "import numpy as np\n",
    "import pandas as pd\n",
    "import matplotlib.pyplot as plt\n",
    "import seaborn as sns\n",
    "import os\n",
    "import re\n",
    "import pickle\n",
    "sns.set_theme(style=\"darkgrid\")\n",
    "\n",
    "#Word2Vec\n",
    "from langdetect import detect\n",
    "import nltk\n",
    "from nltk.tokenize import word_tokenize\n",
    "import gensim\n",
    "from gensim.models import Word2Vec\n",
    "\n",
    "#keras\n",
    "import tensorflow as tf\n",
    "import keras\n",
    "\n",
    "#Navneet\n",
    "import string\n",
    "import re\n",
    "from tqdm import tqdm\n",
    "import pandas as pd\n",
    "from nltk.stem import WordNetLemmatizer \n",
    "from nltk.tokenize import word_tokenize\n",
    "import preprocessor as p\n",
    "from nltk.corpus import stopwords\n",
    "import emoji\n",
    "from sklearn.metrics import *"
   ]
  },
  {
   "cell_type": "code",
   "execution_count": 3,
   "metadata": {},
   "outputs": [],
   "source": [
    "file=open(\"train_feature\",\"rb\")\n",
    "X_train=pickle.load(file)\n",
    "file.close()\n",
    "file=open(\"train_label\",\"rb\")\n",
    "Y_train=pickle.load(file)\n",
    "file.close()\n",
    "file=open(\"valid_label\",\"rb\")\n",
    "Y_valid=pickle.load(file)\n",
    "file.close()\n",
    "file=open(\"valid_feature\",\"rb\")\n",
    "X_valid=pickle.load(file)\n",
    "file.close()\n",
    "\n",
    "file=open(\"test_feature\",\"rb\")\n",
    "X_test=pickle.load(file)\n",
    "file.close()"
   ]
  },
  {
   "cell_type": "code",
   "execution_count": 63,
   "metadata": {},
   "outputs": [
    {
     "data": {
      "text/plain": [
       "0.9709833300674635"
      ]
     },
     "execution_count": 63,
     "metadata": {},
     "output_type": "execute_result"
    }
   ],
   "source": [
    "from sklearn.linear_model import PassiveAggressiveClassifier\n",
    "from sklearn.utils import shuffle\n",
    "from sklearn.svm import SVC\n",
    "from sklearn.preprocessing import StandardScaler\n",
    "from sklearn.pipeline import make_pipeline\n",
    "from sklearn.linear_model import LogisticRegression\n",
    "from sklearn.multiclass import OneVsRestClassifier\n",
    "from sklearn.linear_model import LogisticRegressionCV\n",
    "from sklearn.ensemble import BaggingClassifier\n",
    "from sklearn.ensemble import RandomForestClassifier\n",
    "from sklearn.neural_network import MLPClassifier\n",
    "from sklearn.metrics import accuracy_score\n",
    "# clf = PassiveAggressiveClassifier(max_iter=1000,tol=1e-3,C=0.09)\n",
    "# clf = OneVsRestClassifier(clf)\n",
    "# clf = SVC(gamma='auto',kernel='linear',C=1)\n",
    "# clf = LogisticRegression(max_iter=100,C=50)\n",
    "# clf = LogisticRegressionCV(max_iter=1000,cv=15)\n",
    "# clf = BaggingClassifier(base_estimator=SVC(gamma='auto',kernel='linear',C=1),n_estimators=10)\n",
    "# clf = RandomForestClassifier(n_estimators=100)\n",
    "clf = MLPClassifier(hidden_layer_sizes=(64,16))\n",
    "clf.fit(X_train,Y_train)\n",
    "\n",
    "\n",
    "y_pred=clf.predict(X_valid)\n",
    "f1_score(y_pred,Y_valid,average=\"macro\")"
   ]
  },
  {
   "cell_type": "code",
   "execution_count": null,
   "metadata": {},
   "outputs": [],
   "source": []
  },
  {
   "cell_type": "code",
   "execution_count": null,
   "metadata": {},
   "outputs": [
    {
     "name": "stdout",
     "output_type": "stream",
     "text": [
      "7704 856\n"
     ]
    }
   ],
   "source": [
    "from sklearn.linear_model import PassiveAggressiveClassifier\n",
    "from sklearn.utils import shuffle\n",
    "from sklearn.svm import SVC\n",
    "from sklearn.preprocessing import StandardScaler\n",
    "from sklearn.pipeline import make_pipeline\n",
    "from sklearn.linear_model import LogisticRegression\n",
    "from sklearn.multiclass import OneVsRestClassifier\n",
    "from sklearn.linear_model import LogisticRegressionCV\n",
    "from sklearn.ensemble import BaggingClassifier\n",
    "\n",
    "from scipy.sparse import coo_matrix, vstack\n",
    "X_comb = vstack([X_train,X_valid])\n",
    "y_comb = np.concatenate([np.array(Y_train),np.array(Y_valid)])\n",
    "X_comb = X_comb.tocsr()\n",
    "X_comb, y_comb = shuffle(X_comb,y_comb)\n",
    "Xsplits=[]\n",
    "Ysplits=[]\n",
    "size = X_comb.shape[0]\n",
    "K=10\n",
    "sizeOfsplit = size//K\n",
    "for i in range(K):\n",
    "    Xsplits.append(X_comb[i*sizeOfsplit:(i+1)*sizeOfsplit,:])\n",
    "    Ysplits.append(y_comb[i*sizeOfsplit:(i+1)*sizeOfsplit])\n",
    "splits = [ tuple(filter(lambda x: x!=i,tuple(range(K)))) for i in range(K)]\n",
    "res = []\n",
    "testRes=[]\n",
    "for i in range(K):\n",
    "    Xtrain = vstack(tuple(Xsplits[x] for x in splits[i]))\n",
    "    ytrain = np.concatenate(tuple(Ysplits[x] for x in splits[i]))\n",
    "    \n",
    "    Xtest = Xsplits[i]\n",
    "    ytest = np.copy(Ysplits[i])\n",
    "    \n",
    "    print(ytrain.shape[0],ytest.shape[0])\n",
    "    \n",
    "#     print()\n",
    "#     clf = PassiveAggressiveClassifier(max_iter=1000, random_state=0,tol=1e-3,C=0.009)\n",
    "#     clf = make_pipeline(StandardScaler(with_mean=False), SVC(gamma='auto'))\n",
    "#     clf = SVC(gamma='auto',kernel='linear',C=1)\n",
    "#     clf = LogisticRegression(max_iter=200,random_state=0,C=100)\n",
    "    clf = MLPClassifier(hidden_layer_sizes=(64,16))\n",
    "    clf.fit(Xtrain, ytrain)\n",
    "    \n",
    "    y_pred=clf.predict(Xtest)\n",
    "    \n",
    "    testRes.append(clf.predict(X_test))\n",
    "    \n",
    "    scoref1 = f1_score(y_pred,ytest,average=\"macro\")\n",
    "    print(\"Fold : \"+str(i)+\" F1 Score\",scoref1)"
   ]
  },
  {
   "cell_type": "code",
   "execution_count": 7,
   "metadata": {},
   "outputs": [],
   "source": [
    "final = testRes[2]"
   ]
  },
  {
   "cell_type": "code",
   "execution_count": 8,
   "metadata": {},
   "outputs": [],
   "source": [
    "\n",
    "# yPred = np.where(y_pred > 0.8, 1, 0)\n",
    "f = open(\"answer().txt\",\"a\")\n",
    "f.write(\"id,label\\n\")\n",
    "c=1\n",
    "for i in range(len(final)):\n",
    "    if(final[i]=='fake'):\n",
    "        f.write(str(i+1)+\",\"+\"fake\")\n",
    "    else:\n",
    "        f.write(str(i+1)+\",\"+\"real\")\n",
    "    if(i!=len(final)-1):\n",
    "        f.write(\"\\n\")\n",
    "f.close()"
   ]
  }
 ],
 "metadata": {
  "kernelspec": {
   "display_name": "Python 3",
   "language": "python",
   "name": "python3"
  },
  "language_info": {
   "codemirror_mode": {
    "name": "ipython",
    "version": 3
   },
   "file_extension": ".py",
   "mimetype": "text/x-python",
   "name": "python",
   "nbconvert_exporter": "python",
   "pygments_lexer": "ipython3",
   "version": "3.6.12"
  }
 },
 "nbformat": 4,
 "nbformat_minor": 4
}
